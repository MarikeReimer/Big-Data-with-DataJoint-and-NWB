{
 "cells": [
  {
   "cell_type": "markdown",
   "metadata": {},
   "source": [
    "# Chapter 1\n",
    "\n",
    "## Create a DataJoint Pipeline and write an NWB file\n",
    "\n",
    "This notebook models the use of Jupyter as a lab notebook. It walks through the steps of creating a DataJoint pipeline and writing an NWB file. Creating a copy of this notebook and updating it each time a session is run is the fastest way to implement NWB and DataJoint.\n",
    "\n",
    "Metadata describing the mouse and experimental session stored in variables of the second and third cells.  Storing data in Jupyter is not considered a best practice in computer science; however, because we also save those variables in an NWB file and also in a database, it is sufficient for evaluation purposes.  \n",
    "\n",
    "The coordinate data representing the position of a mouse is stored in CSV files in a standard file tree, grouped by mouse number, with subdirectories for each session"
   ]
  },
  {
   "cell_type": "markdown",
   "metadata": {},
   "source": [
    "## Section 1: Import libraries and define variables"
   ]
  },
  {
   "cell_type": "markdown",
   "metadata": {},
   "source": [
    "We begin by importing libraries:"
   ]
  },
  {
   "cell_type": "code",
   "execution_count": 1,
   "metadata": {},
   "outputs": [],
   "source": [
    "import numpy as np\n",
    "import os\n",
    "import pynwb #NWB API\n",
    "import pandas as pd\n",
    "import h5py #Provides methods to supplement NWB\n",
    "import datajoint as dj #\n",
    "import csv \n",
    "from datetime import datetime\n",
    "from dateutil import tz\n",
    "from pynwb import NWBHDF5IO\n",
    "from matplotlib import pylab as plt\n",
    "#import import_ipynb #Import modules from other notebooks"
   ]
  },
  {
   "cell_type": "markdown",
   "metadata": {},
   "source": [
    "Variables are used to store information.  We use variables to identify the experimental subject and the session."
   ]
  },
  {
   "cell_type": "code",
   "execution_count": 2,
   "metadata": {},
   "outputs": [],
   "source": [
    "#These variables will need to be updated every session\n",
    "subject_id = 'Mouse_5025'\n",
    "session_id = 'Session_22'"
   ]
  },
  {
   "cell_type": "markdown",
   "metadata": {},
   "source": [
    "Path variables are used to navigate the directory structure.  'Experiment_path' is used to specify the root directory of the file structure and should be replaced with the path on your local system. It is used to construct the path to the data_directory where a CSV containing coordinates of a mouse's position is stored."
   ]
  },
  {
   "cell_type": "code",
   "execution_count": 3,
   "metadata": {},
   "outputs": [],
   "source": [
    "#Note: The '/' is not universal between operating systems and may need to be replaced with '\\'\n",
    "experiment_path = 'C:/Users/meowm/OneDrive/DataWarehouse/Experimenter1' #Your path here\n",
    "\n",
    "data_directory = experiment_path + '/' + subject_id + \"/\" + session_id + \"/\"\n",
    "\n",
    "#Navigate to data directory\n",
    "os.chdir(data_directory)\n",
    "\n",
    "#We use a string to represent the location of a video containing raw data. (Actual video was omitted for simplicity)\n",
    "raw_data_link = experiment_path + '/' + subject_id + '/' + session_id + '/raw_video.avi' "
   ]
  },
  {
   "cell_type": "markdown",
   "metadata": {},
   "source": [
    "To reach the goal of self documenting files, NWB specfies high level information about the lab, experiment, as well as the timeseries and the subject."
   ]
  },
  {
   "cell_type": "code",
   "execution_count": 4,
   "metadata": {},
   "outputs": [],
   "source": [
    "#These variables can be updated as needed\n",
    "\n",
    "#NWB File Meta Data, update as needed\n",
    "session_description = 'Determine if mouse has a place preference'\n",
    "experimenter = 'Experimenter 1'\n",
    "institution='Yale University'\n",
    "lab = 'Tan lab'\n",
    "experiment_description = 'Demonstrate creating a single NWB file and loading a DataJoint pipeline from an experimental session'\n",
    "\n",
    "#Capture the starting time of your session.\n",
    "session_start_time = datetime.now()\n",
    "\n",
    "#Timeseries Meta Data\n",
    "reference_frame = 'Zero refers to the bottom left corner of the rig, when viewed from above'\n",
    "rate = 30.0\n",
    "comments = 'Will need to correct camera jitter'\n",
    "description = 'The position of a mouse in an arena is transformed into X,Y coordinates'\n",
    "starting_time = 0.0 #Our timer starts at zero\n",
    "\n",
    "#Mouse Meta Data\n",
    "subject_description = 'Fuzzy'\n",
    "genotype = 'B6'\n",
    "sex = 'F'\n",
    "species = 'Mus musculus'\n",
    "weight = '25g'\n",
    "date_of_birth = datetime(2017, 4, 3, 11, tzinfo=tz.tzlocal())\n",
    "\n",
    "#The PyNWB module has optional fields that are very useful, but ommitted here for simplicity.  These include\n",
    "#protocol number, key words, and publications.  Check out the complete list here:\n",
    "#https://pynwb.readthedocs.io/en/stable/pynwb.file.html"
   ]
  },
  {
   "cell_type": "markdown",
   "metadata": {},
   "source": [
    "These variables construct unique IDs from metadata and do not need to be updated"
   ]
  },
  {
   "cell_type": "code",
   "execution_count": 5,
   "metadata": {},
   "outputs": [],
   "source": [
    "\n",
    "identifier = subject_id + \"_\" + session_id #This uniquely identifies a file\n",
    "name = session_id #This links the timeseries with the session number timeseries\n",
    "nwbfile_name = identifier + '.nwb' #The file identifier references the subject and the session"
   ]
  },
  {
   "cell_type": "markdown",
   "metadata": {},
   "source": [
    "## Section 2: Connect to DataJoint and create pipeline"
   ]
  },
  {
   "cell_type": "markdown",
   "metadata": {},
   "source": [
    "Now that we have data we will connect to DataJoint's tutorial server. You will need to obtain credentials for the DataJoint tutorial server here: https://datajoint.io/\n",
    "\n",
    "We want to do this more than once, so we will define a functionto do that makes our variables accessible to other notebooks."
   ]
  },
  {
   "cell_type": "code",
   "execution_count": 6,
   "metadata": {},
   "outputs": [],
   "source": [
    "def connect_to_dj():\n",
    "    dj.config['database.host'] = 'tutorial-db.datajoint.io' #Tutorial server\n",
    "    dj.config['database.user'] = '<username>'\n",
    "    dj.config['database.password'] = '<password>'\n",
    "\n",
    "    dj.conn()\n",
    "\n",
    "    #Create a schema to organize the pipeline. Defining it here means you only need to change the code in one place.\n",
    "    current_schema = dj.schema('<username>_tutorial', locals())\n",
    "    return current_schema"
   ]
  },
  {
   "cell_type": "markdown",
   "metadata": {},
   "source": [
    "Execute the connect_to_dj function and store 'current_schema' in the variable, 'schema'."
   ]
  },
  {
   "cell_type": "code",
   "execution_count": 7,
   "metadata": {},
   "outputs": [
    {
     "name": "stdout",
     "output_type": "stream",
     "text": [
      "Connecting marikelreimer@tutorial-db.datajoint.io:3306\n"
     ]
    },
    {
     "data": {
      "text/plain": [
       "Schema `marikelreimer_tutorial`"
      ]
     },
     "execution_count": 7,
     "metadata": {},
     "output_type": "execute_result"
    }
   ],
   "source": [
    "schema = connect_to_dj()\n",
    "schema"
   ]
  },
  {
   "cell_type": "markdown",
   "metadata": {},
   "source": [
    "We will define tables, one by one, using ERD.draw() to visualize the growing pipeline. Our first table is designed to store data about experimental mice. It a manual table, indicated by (dj.Manual) which means data can be directly inserted into it.   Subject_id is the primary key for this table, which is denoted by it being above the '---'.  The fields below that line represent columns in the table and are followed by their data type e.g varchar,enum, and timestamp(128).  We refer readers to https://tutorials.datajoint.io/ which provides thorough documentations in Matlab and python."
   ]
  },
  {
   "cell_type": "code",
   "execution_count": 8,
   "metadata": {},
   "outputs": [],
   "source": [
    "#Define Mouse table\n",
    "@schema\n",
    "class Mouse(dj.Manual):\n",
    "    definition = \"\"\"\n",
    "    subject_id: varchar(128)                  # Primary keys above the '---'\n",
    "    ---\n",
    "    #non-primary columns below the '---' in alphabetical order\n",
    "    date_of_birth: timestamp \n",
    "    genotype: enum('B6', 'BalbC')    \n",
    "    sex: enum('M', 'F', 'U')\n",
    "    species: varchar(128)\n",
    "    subject_description: varchar(128)\n",
    "    weight: varchar(128)\n",
    "    \"\"\""
   ]
  },
  {
   "cell_type": "markdown",
   "metadata": {},
   "source": [
    "We instantiate the 'Mouse' class and store it in the variable, 'mouse' which is a DataJoint best practice."
   ]
  },
  {
   "cell_type": "code",
   "execution_count": 9,
   "metadata": {},
   "outputs": [],
   "source": [
    "#Uppercase characters refer to tables, lowercase to variables\n",
    "mouse = Mouse() "
   ]
  },
  {
   "cell_type": "markdown",
   "metadata": {},
   "source": [
    "In naming the field 'subject_description' we made a deviation from the NWB naming convention, which is simply 'description'. The reason for this choice is that DataJoint  will give an error if you try to join two tables with the same column name."
   ]
  },
  {
   "cell_type": "code",
   "execution_count": 10,
   "metadata": {},
   "outputs": [
    {
     "data": {
      "image/png": "[encoded data removed]",
      "text/plain": [
       "<Figure size 432x288 with 1 Axes>"
      ]
     },
     "metadata": {
      "needs_background": "light"
     },
     "output_type": "display_data"
    }
   ],
   "source": [
    "dj.ERD(schema).draw()"
   ]
  },
  {
   "cell_type": "markdown",
   "metadata": {},
   "source": [
    "Next we define a table to store session data.  This table has a dependency on the Mouse table, which is indicated with the -> symbol.  This table's primary key is Session_id and each row in our our dataset can be uniquely identified with subject_id and session_id."
   ]
  },
  {
   "cell_type": "code",
   "execution_count": 11,
   "metadata": {},
   "outputs": [],
   "source": [
    "#Define session table\n",
    "\n",
    "@schema\n",
    "class Session(dj.Manual):\n",
    "        definition = \"\"\"\n",
    "        ->Mouse                                  #Dependency on Mouse table established\n",
    "        name: varchar(128)                  #Primary key for the session table\n",
    "        ---\n",
    "        comments: varchar(128)\n",
    "        description: varchar(128) #Timeseries description\n",
    "        experiment_description: varchar(128)\n",
    "        experimenter: enum('Experimenter 1', 'Experimenter 2')\n",
    "        identifier: varchar(128)                \n",
    "        institution: varchar(128)\n",
    "        lab: varchar(128)\n",
    "        rate: float\n",
    "        raw_data_link: varchar(128)\n",
    "        reference_frame: varchar(128)\n",
    "        session_description: varchar(128)\n",
    "        session_start_time: timestamp\n",
    "        starting_time: float\n",
    "        \"\"\""
   ]
  },
  {
   "cell_type": "markdown",
   "metadata": {},
   "source": [
    "We instantiate the 'Session' class and store it in the variable, 'session'"
   ]
  },
  {
   "cell_type": "code",
   "execution_count": 12,
   "metadata": {},
   "outputs": [
    {
     "data": {
      "text/html": [
       "\n",
       "        \n",
       "        <style type=\"text/css\">\n",
       "            .Relation{\n",
       "                border-collapse:collapse;\n",
       "            }\n",
       "            .Relation th{\n",
       "                background: #A0A0A0; color: #ffffff; padding:4px; border:#f0e0e0 1px solid;\n",
       "                font-weight: normal; font-family: monospace; font-size: 100%;\n",
       "            }\n",
       "            .Relation td{\n",
       "                padding:4px; border:#f0e0e0 1px solid; font-size:100%;\n",
       "            }\n",
       "            .Relation tr:nth-child(odd){\n",
       "                background: #ffffff;\n",
       "            }\n",
       "            .Relation tr:nth-child(even){\n",
       "                background: #f3f1ff;\n",
       "            }\n",
       "            /* Tooltip container */\n",
       "            .djtooltip {\n",
       "            }\n",
       "            /* Tooltip text */\n",
       "            .djtooltip .djtooltiptext {\n",
       "                visibility: hidden;\n",
       "                width: 120px;\n",
       "                background-color: black;\n",
       "                color: #fff;\n",
       "                text-align: center;\n",
       "                padding: 5px 0;\n",
       "                border-radius: 6px;\n",
       "                /* Position the tooltip text - see examples below! */\n",
       "                position: absolute;\n",
       "                z-index: 1;\n",
       "            }\n",
       "            #primary {\n",
       "                font-weight: bold;\n",
       "                color: black;\n",
       "            }\n",
       "\n",
       "            #nonprimary {\n",
       "                font-weight: normal;\n",
       "                color: white;\n",
       "            }\n",
       "\n",
       "            /* Show the tooltip text when you mouse over the tooltip container */\n",
       "            .djtooltip:hover .djtooltiptext {\n",
       "                visibility: visible;\n",
       "            }\n",
       "        </style>\n",
       "        \n",
       "        <b></b>\n",
       "            <div style=\"max-height:1000px;max-width:1500px;overflow:auto;\">\n",
       "            <table border=\"1\" class=\"Relation\">\n",
       "                <thead> <tr style=\"text-align: right;\"> <th> <div class=\"djtooltip\">\n",
       "                                <p id=\"primary\">subject_id</p>\n",
       "                                <span class=\"djtooltiptext\">Primary keys above the '---'</span>\n",
       "                            </div></th><th><div class=\"djtooltip\">\n",
       "                                <p id=\"primary\">name</p>\n",
       "                                <span class=\"djtooltiptext\">Primary key for the session table</span>\n",
       "                            </div></th><th><div class=\"djtooltip\">\n",
       "                                <p id=\"nonprimary\">comments</p>\n",
       "                                <span class=\"djtooltiptext\"></span>\n",
       "                            </div></th><th><div class=\"djtooltip\">\n",
       "                                <p id=\"nonprimary\">description</p>\n",
       "                                <span class=\"djtooltiptext\">Timeseries description</span>\n",
       "                            </div></th><th><div class=\"djtooltip\">\n",
       "                                <p id=\"nonprimary\">experiment_description</p>\n",
       "                                <span class=\"djtooltiptext\"></span>\n",
       "                            </div></th><th><div class=\"djtooltip\">\n",
       "                                <p id=\"nonprimary\">experimenter</p>\n",
       "                                <span class=\"djtooltiptext\"></span>\n",
       "                            </div></th><th><div class=\"djtooltip\">\n",
       "                                <p id=\"nonprimary\">identifier</p>\n",
       "                                <span class=\"djtooltiptext\"></span>\n",
       "                            </div></th><th><div class=\"djtooltip\">\n",
       "                                <p id=\"nonprimary\">institution</p>\n",
       "                                <span class=\"djtooltiptext\"></span>\n",
       "                            </div></th><th><div class=\"djtooltip\">\n",
       "                                <p id=\"nonprimary\">lab</p>\n",
       "                                <span class=\"djtooltiptext\"></span>\n",
       "                            </div></th><th><div class=\"djtooltip\">\n",
       "                                <p id=\"nonprimary\">rate</p>\n",
       "                                <span class=\"djtooltiptext\"></span>\n",
       "                            </div></th><th><div class=\"djtooltip\">\n",
       "                                <p id=\"nonprimary\">raw_data_link</p>\n",
       "                                <span class=\"djtooltiptext\"></span>\n",
       "                            </div></th><th><div class=\"djtooltip\">\n",
       "                                <p id=\"nonprimary\">reference_frame</p>\n",
       "                                <span class=\"djtooltiptext\"></span>\n",
       "                            </div></th><th><div class=\"djtooltip\">\n",
       "                                <p id=\"nonprimary\">session_description</p>\n",
       "                                <span class=\"djtooltiptext\"></span>\n",
       "                            </div></th><th><div class=\"djtooltip\">\n",
       "                                <p id=\"nonprimary\">session_start_time</p>\n",
       "                                <span class=\"djtooltiptext\"></span>\n",
       "                            </div></th><th><div class=\"djtooltip\">\n",
       "                                <p id=\"nonprimary\">starting_time</p>\n",
       "                                <span class=\"djtooltiptext\"></span>\n",
       "                            </div> </th> </tr> </thead>\n",
       "                <tbody> <tr>  </tr> </tbody>\n",
       "            </table>\n",
       "            \n",
       "            <p>Total: 0</p></div>\n",
       "            "
      ],
      "text/plain": [
       "*subject_id    *name    comments     description    experiment_des experimenter   identifier     institution    lab     rate     raw_data_link  reference_fram session_descri session_start_ starting_time \n",
       "+------------+ +------+ +----------+ +------------+ +------------+ +------------+ +------------+ +------------+ +-----+ +------+ +------------+ +------------+ +------------+ +------------+ +------------+\n",
       "\n",
       " (Total: 0)"
      ]
     },
     "execution_count": 12,
     "metadata": {},
     "output_type": "execute_result"
    }
   ],
   "source": [
    "session = Session()\n",
    "session"
   ]
  },
  {
   "cell_type": "code",
   "execution_count": 13,
   "metadata": {},
   "outputs": [
    {
     "data": {
      "image/png": "[encoded data removed]",
      "text/plain": [
       "<Figure size 432x288 with 1 Axes>"
      ]
     },
     "metadata": {
      "needs_background": "light"
     },
     "output_type": "display_data"
    }
   ],
   "source": [
    "dj.ERD(schema).draw()"
   ]
  },
  {
   "cell_type": "markdown",
   "metadata": {},
   "source": [
    "The Position table inherits from the Session table.  It is an imported table, indicated by (dj.Imported) and it imports coordinates data from a csv file in from the specified data directory.  The coordinate data is stored as an array using the longblob data type.  We can load data from a variety of source file types, so we will plan ahead, specifying a file type, which is extended in Chapter 3.  When adapting this framework, replace line 13 with your methoods for reading data."
   ]
  },
  {
   "cell_type": "code",
   "execution_count": 14,
   "metadata": {},
   "outputs": [],
   "source": [
    "source_data = 'NoseLocationLog.csv'"
   ]
  },
  {
   "cell_type": "code",
   "execution_count": 15,
   "metadata": {},
   "outputs": [],
   "source": [
    "@schema\n",
    "class Position(dj.Imported):\n",
    "    definition = \"\"\"\n",
    "    -> Session\n",
    "    ---\n",
    "    coordinates:  longblob    # X,Y coordinates of mouse\n",
    "    \"\"\"\n",
    "    #make tuples function takes data from parent tables and inserts values into itself. \n",
    "    def _make_tuples(self, key):\n",
    "        if source_data == 'NoseLocationLog.csv':\n",
    "\n",
    "            #Use numpy to read csv\n",
    "            data = np.genfromtxt('NoseLocationLog.csv', delimiter=',', skip_header=1)\n",
    "\n",
    "            #Store data in coordinates key\n",
    "            key['coordinates'] = data\n",
    "\n",
    "            #Insert key into table\n",
    "            self.insert1(key)\n",
    "\n",
    "            print('Populated a position for {subject_id}'.format(**key))\n",
    "        \n",
    "        #Alert users to errors\n",
    "        else:\n",
    "            print('Unknown source file')"
   ]
  },
  {
   "cell_type": "markdown",
   "metadata": {},
   "source": [
    "We instantiate the 'Position' class and store it in the variable, 'position'.  "
   ]
  },
  {
   "cell_type": "code",
   "execution_count": 16,
   "metadata": {},
   "outputs": [
    {
     "data": {
      "text/plain": [
       "__main__.Position"
      ]
     },
     "execution_count": 16,
     "metadata": {},
     "output_type": "execute_result"
    }
   ],
   "source": [
    "position = Position\n",
    "position"
   ]
  },
  {
   "cell_type": "code",
   "execution_count": 17,
   "metadata": {},
   "outputs": [
    {
     "data": {
      "image/png": "[encoded data removed]",
      "text/plain": [
       "<Figure size 432x288 with 1 Axes>"
      ]
     },
     "metadata": {
      "needs_background": "light"
     },
     "output_type": "display_data"
    }
   ],
   "source": [
    "dj.ERD(schema).draw()"
   ]
  },
  {
   "cell_type": "markdown",
   "metadata": {},
   "source": [
    "Position_Statistics is our final table and is an example of a computed table, indicated by (dj.Computed). We calculated the amount of time a mouse spent in each half of an arena and used it to create a preference index. Columns are defined to store the results of the calculations, ensuring that data and analytis products are always linked. The code in the make_tuples method counts the coordinates representing the time the mouse spent in the left or right half of the arena and uses these values to calculate a preference index. This code is specific to this project, but can be replaced by other numpy analysis methods."
   ]
  },
  {
   "cell_type": "code",
   "execution_count": 18,
   "metadata": {},
   "outputs": [],
   "source": [
    "@schema\n",
    "class PositionStatistics(dj.Computed):\n",
    "    definition = \"\"\"\n",
    "    -> Position\n",
    "    ---\n",
    "    left_side: float    #count of coordinates in left half of arena\n",
    "    right_side: float    #count of coordinates in the right half of arena\n",
    "    preference_index: float #left_side - right_side/ left_side + right_side \n",
    "    \"\"\"\n",
    "    \n",
    "    def _make_tuples(self, key):\n",
    "        print('Populating for: ', key)\n",
    "        \n",
    "\n",
    "        coordinates = (Position() & key).fetch1('coordinates')    # fetch activity as NumPy array\n",
    "        coordinates = coordinates[:,0] #We use only the X values, since we are comparing time spent in the left versus right half of the arena\n",
    "        \n",
    "        arena_length = max(coordinates) #Find the length of the arena\n",
    "\n",
    "        #Store counts of the number of coordinates on the left side of the arena \n",
    "        left_side = (coordinates < (arena_length/2)).astype(np.int)\n",
    "        #Store counts of the number of coordinates on the right side of the arena \n",
    "        right_side = (coordinates > (arena_length/2)).astype(np.int)\n",
    "\n",
    "        #Calculate a preference index using the sum of the coordinate counts\n",
    "        preference_index = (left_side.sum() - right_side.sum())/(left_side.sum() + right_side.sum())\n",
    "\n",
    "        #Count the values stored in the varialbes results and insert\n",
    "        key['left_side'] = left_side.sum()\n",
    "        key['right_side'] = right_side.sum()\n",
    "        key['preference_index'] = preference_index\n",
    "        self.insert1(key)"
   ]
  },
  {
   "cell_type": "markdown",
   "metadata": {},
   "source": [
    "We instantiate the 'PositionStatistics' class and store it in the variable, 'positionStatistics'"
   ]
  },
  {
   "cell_type": "code",
   "execution_count": 19,
   "metadata": {},
   "outputs": [
    {
     "data": {
      "text/html": [
       "\n",
       "        \n",
       "        <style type=\"text/css\">\n",
       "            .Relation{\n",
       "                border-collapse:collapse;\n",
       "            }\n",
       "            .Relation th{\n",
       "                background: #A0A0A0; color: #ffffff; padding:4px; border:#f0e0e0 1px solid;\n",
       "                font-weight: normal; font-family: monospace; font-size: 100%;\n",
       "            }\n",
       "            .Relation td{\n",
       "                padding:4px; border:#f0e0e0 1px solid; font-size:100%;\n",
       "            }\n",
       "            .Relation tr:nth-child(odd){\n",
       "                background: #ffffff;\n",
       "            }\n",
       "            .Relation tr:nth-child(even){\n",
       "                background: #f3f1ff;\n",
       "            }\n",
       "            /* Tooltip container */\n",
       "            .djtooltip {\n",
       "            }\n",
       "            /* Tooltip text */\n",
       "            .djtooltip .djtooltiptext {\n",
       "                visibility: hidden;\n",
       "                width: 120px;\n",
       "                background-color: black;\n",
       "                color: #fff;\n",
       "                text-align: center;\n",
       "                padding: 5px 0;\n",
       "                border-radius: 6px;\n",
       "                /* Position the tooltip text - see examples below! */\n",
       "                position: absolute;\n",
       "                z-index: 1;\n",
       "            }\n",
       "            #primary {\n",
       "                font-weight: bold;\n",
       "                color: black;\n",
       "            }\n",
       "\n",
       "            #nonprimary {\n",
       "                font-weight: normal;\n",
       "                color: white;\n",
       "            }\n",
       "\n",
       "            /* Show the tooltip text when you mouse over the tooltip container */\n",
       "            .djtooltip:hover .djtooltiptext {\n",
       "                visibility: visible;\n",
       "            }\n",
       "        </style>\n",
       "        \n",
       "        <b></b>\n",
       "            <div style=\"max-height:1000px;max-width:1500px;overflow:auto;\">\n",
       "            <table border=\"1\" class=\"Relation\">\n",
       "                <thead> <tr style=\"text-align: right;\"> <th> <div class=\"djtooltip\">\n",
       "                                <p id=\"primary\">subject_id</p>\n",
       "                                <span class=\"djtooltiptext\">Primary keys above the '---'</span>\n",
       "                            </div></th><th><div class=\"djtooltip\">\n",
       "                                <p id=\"primary\">name</p>\n",
       "                                <span class=\"djtooltiptext\">Primary key for the session table</span>\n",
       "                            </div></th><th><div class=\"djtooltip\">\n",
       "                                <p id=\"nonprimary\">left_side</p>\n",
       "                                <span class=\"djtooltiptext\">count of coordinates in left half of arena</span>\n",
       "                            </div></th><th><div class=\"djtooltip\">\n",
       "                                <p id=\"nonprimary\">right_side</p>\n",
       "                                <span class=\"djtooltiptext\">count of coordinates in the right half of arena</span>\n",
       "                            </div></th><th><div class=\"djtooltip\">\n",
       "                                <p id=\"nonprimary\">preference_index</p>\n",
       "                                <span class=\"djtooltiptext\">left_side - right_side/ left_side + right_side</span>\n",
       "                            </div> </th> </tr> </thead>\n",
       "                <tbody> <tr>  </tr> </tbody>\n",
       "            </table>\n",
       "            \n",
       "            <p>Total: 0</p></div>\n",
       "            "
      ],
      "text/plain": [
       "*subject_id    *name    left_side     right_side     preference_ind\n",
       "+------------+ +------+ +-----------+ +------------+ +------------+\n",
       "\n",
       " (Total: 0)"
      ]
     },
     "execution_count": 19,
     "metadata": {},
     "output_type": "execute_result"
    }
   ],
   "source": [
    "positionStatistics = PositionStatistics()\n",
    "\n",
    "positionStatistics"
   ]
  },
  {
   "cell_type": "markdown",
   "metadata": {},
   "source": [
    "Here is our completed pipeline"
   ]
  },
  {
   "cell_type": "code",
   "execution_count": 20,
   "metadata": {},
   "outputs": [
    {
     "data": {
      "image/png": "[encoded data removed]",
      "text/plain": [
       "<Figure size 432x288 with 1 Axes>"
      ]
     },
     "metadata": {
      "needs_background": "light"
     },
     "output_type": "display_data"
    }
   ],
   "source": [
    "dj.ERD(schema).draw()"
   ]
  },
  {
   "cell_type": "markdown",
   "metadata": {},
   "source": [
    "## Section 4: Load DataJoint Pipeline"
   ]
  },
  {
   "cell_type": "markdown",
   "metadata": {},
   "source": [
    "The pipeline is complete and we load data into tables in the order they were created.  Mouse is a manual table, so we use can use DataJoint's insert1 function to pass data to it. When we insert data into the pipeline, we must be careful to keep our variables in the same order as the table definition.  DataJoint validates on type of data, however, it does not check to see if your variables match your column names.  This means that validation is needed because you could, for example, insert the lab's name into the file identifier without raising an error."
   ]
  },
  {
   "cell_type": "code",
   "execution_count": 21,
   "metadata": {},
   "outputs": [],
   "source": [
    "mouse.insert1((\n",
    "    subject_id, \n",
    "    date_of_birth,\n",
    "    genotype,\n",
    "    sex,   \n",
    "    species,\n",
    "    subject_description,\n",
    "    weight\n",
    "    ))  "
   ]
  },
  {
   "cell_type": "markdown",
   "metadata": {},
   "source": [
    "To promote interoperable code, we are following the convention of listing non-primary keys in alphabetical order. When you are setting up, it is good to review each table after loading it to verify that data ended in the correct column.  "
   ]
  },
  {
   "cell_type": "code",
   "execution_count": 22,
   "metadata": {},
   "outputs": [
    {
     "data": {
      "text/html": [
       "\n",
       "        \n",
       "        <style type=\"text/css\">\n",
       "            .Relation{\n",
       "                border-collapse:collapse;\n",
       "            }\n",
       "            .Relation th{\n",
       "                background: #A0A0A0; color: #ffffff; padding:4px; border:#f0e0e0 1px solid;\n",
       "                font-weight: normal; font-family: monospace; font-size: 100%;\n",
       "            }\n",
       "            .Relation td{\n",
       "                padding:4px; border:#f0e0e0 1px solid; font-size:100%;\n",
       "            }\n",
       "            .Relation tr:nth-child(odd){\n",
       "                background: #ffffff;\n",
       "            }\n",
       "            .Relation tr:nth-child(even){\n",
       "                background: #f3f1ff;\n",
       "            }\n",
       "            /* Tooltip container */\n",
       "            .djtooltip {\n",
       "            }\n",
       "            /* Tooltip text */\n",
       "            .djtooltip .djtooltiptext {\n",
       "                visibility: hidden;\n",
       "                width: 120px;\n",
       "                background-color: black;\n",
       "                color: #fff;\n",
       "                text-align: center;\n",
       "                padding: 5px 0;\n",
       "                border-radius: 6px;\n",
       "                /* Position the tooltip text - see examples below! */\n",
       "                position: absolute;\n",
       "                z-index: 1;\n",
       "            }\n",
       "            #primary {\n",
       "                font-weight: bold;\n",
       "                color: black;\n",
       "            }\n",
       "\n",
       "            #nonprimary {\n",
       "                font-weight: normal;\n",
       "                color: white;\n",
       "            }\n",
       "\n",
       "            /* Show the tooltip text when you mouse over the tooltip container */\n",
       "            .djtooltip:hover .djtooltiptext {\n",
       "                visibility: visible;\n",
       "            }\n",
       "        </style>\n",
       "        \n",
       "        <b></b>\n",
       "            <div style=\"max-height:1000px;max-width:1500px;overflow:auto;\">\n",
       "            <table border=\"1\" class=\"Relation\">\n",
       "                <thead> <tr style=\"text-align: right;\"> <th> <div class=\"djtooltip\">\n",
       "                                <p id=\"primary\">subject_id</p>\n",
       "                                <span class=\"djtooltiptext\">Primary keys above the '---'</span>\n",
       "                            </div></th><th><div class=\"djtooltip\">\n",
       "                                <p id=\"nonprimary\">date_of_birth</p>\n",
       "                                <span class=\"djtooltiptext\"></span>\n",
       "                            </div></th><th><div class=\"djtooltip\">\n",
       "                                <p id=\"nonprimary\">genotype</p>\n",
       "                                <span class=\"djtooltiptext\"></span>\n",
       "                            </div></th><th><div class=\"djtooltip\">\n",
       "                                <p id=\"nonprimary\">sex</p>\n",
       "                                <span class=\"djtooltiptext\"></span>\n",
       "                            </div></th><th><div class=\"djtooltip\">\n",
       "                                <p id=\"nonprimary\">species</p>\n",
       "                                <span class=\"djtooltiptext\"></span>\n",
       "                            </div></th><th><div class=\"djtooltip\">\n",
       "                                <p id=\"nonprimary\">subject_description</p>\n",
       "                                <span class=\"djtooltiptext\"></span>\n",
       "                            </div></th><th><div class=\"djtooltip\">\n",
       "                                <p id=\"nonprimary\">weight</p>\n",
       "                                <span class=\"djtooltiptext\"></span>\n",
       "                            </div> </th> </tr> </thead>\n",
       "                <tbody> <tr> <td>Mouse_5025</td>\n",
       "<td>2017-04-03 11:00:00</td>\n",
       "<td>B6</td>\n",
       "<td>F</td>\n",
       "<td>Mus musculus</td>\n",
       "<td>Fuzzy</td>\n",
       "<td>25g</td> </tr> </tbody>\n",
       "            </table>\n",
       "            \n",
       "            <p>Total: 1</p></div>\n",
       "            "
      ],
      "text/plain": [
       "*subject_id    date_of_birth  genotype     sex     species        subject_descri weight    \n",
       "+------------+ +------------+ +----------+ +-----+ +------------+ +------------+ +--------+\n",
       "Mouse_5025     2017-04-03 11: B6           F       Mus musculus   Fuzzy          25g       \n",
       " (Total: 1)"
      ]
     },
     "execution_count": 22,
     "metadata": {},
     "output_type": "execute_result"
    }
   ],
   "source": [
    "mouse"
   ]
  },
  {
   "cell_type": "markdown",
   "metadata": {},
   "source": [
    "Next we insert session data:"
   ]
  },
  {
   "cell_type": "code",
   "execution_count": 23,
   "metadata": {},
   "outputs": [],
   "source": [
    "Session.insert1((\n",
    "    subject_id, #Primary key for mouse table\n",
    "    name, #Primary key for session table\n",
    "    comments, \n",
    "    description,\n",
    "    experiment_description,\n",
    "    experimenter,\n",
    "    identifier,\n",
    "    institution, \n",
    "    lab, \n",
    "    rate,\n",
    "    raw_data_link,\n",
    "    reference_frame,\n",
    "    session_description,\n",
    "    session_start_time,\n",
    "    starting_time\n",
    "    ))"
   ]
  },
  {
   "cell_type": "markdown",
   "metadata": {},
   "source": [
    "Verify that the columns display the correct data:"
   ]
  },
  {
   "cell_type": "code",
   "execution_count": 24,
   "metadata": {},
   "outputs": [
    {
     "data": {
      "text/html": [
       "\n",
       "        \n",
       "        <style type=\"text/css\">\n",
       "            .Relation{\n",
       "                border-collapse:collapse;\n",
       "            }\n",
       "            .Relation th{\n",
       "                background: #A0A0A0; color: #ffffff; padding:4px; border:#f0e0e0 1px solid;\n",
       "                font-weight: normal; font-family: monospace; font-size: 100%;\n",
       "            }\n",
       "            .Relation td{\n",
       "                padding:4px; border:#f0e0e0 1px solid; font-size:100%;\n",
       "            }\n",
       "            .Relation tr:nth-child(odd){\n",
       "                background: #ffffff;\n",
       "            }\n",
       "            .Relation tr:nth-child(even){\n",
       "                background: #f3f1ff;\n",
       "            }\n",
       "            /* Tooltip container */\n",
       "            .djtooltip {\n",
       "            }\n",
       "            /* Tooltip text */\n",
       "            .djtooltip .djtooltiptext {\n",
       "                visibility: hidden;\n",
       "                width: 120px;\n",
       "                background-color: black;\n",
       "                color: #fff;\n",
       "                text-align: center;\n",
       "                padding: 5px 0;\n",
       "                border-radius: 6px;\n",
       "                /* Position the tooltip text - see examples below! */\n",
       "                position: absolute;\n",
       "                z-index: 1;\n",
       "            }\n",
       "            #primary {\n",
       "                font-weight: bold;\n",
       "                color: black;\n",
       "            }\n",
       "\n",
       "            #nonprimary {\n",
       "                font-weight: normal;\n",
       "                color: white;\n",
       "            }\n",
       "\n",
       "            /* Show the tooltip text when you mouse over the tooltip container */\n",
       "            .djtooltip:hover .djtooltiptext {\n",
       "                visibility: visible;\n",
       "            }\n",
       "        </style>\n",
       "        \n",
       "        <b></b>\n",
       "            <div style=\"max-height:1000px;max-width:1500px;overflow:auto;\">\n",
       "            <table border=\"1\" class=\"Relation\">\n",
       "                <thead> <tr style=\"text-align: right;\"> <th> <div class=\"djtooltip\">\n",
       "                                <p id=\"primary\">subject_id</p>\n",
       "                                <span class=\"djtooltiptext\">Primary keys above the '---'</span>\n",
       "                            </div></th><th><div class=\"djtooltip\">\n",
       "                                <p id=\"primary\">name</p>\n",
       "                                <span class=\"djtooltiptext\">Primary key for the session table</span>\n",
       "                            </div></th><th><div class=\"djtooltip\">\n",
       "                                <p id=\"nonprimary\">comments</p>\n",
       "                                <span class=\"djtooltiptext\"></span>\n",
       "                            </div></th><th><div class=\"djtooltip\">\n",
       "                                <p id=\"nonprimary\">description</p>\n",
       "                                <span class=\"djtooltiptext\">Timeseries description</span>\n",
       "                            </div></th><th><div class=\"djtooltip\">\n",
       "                                <p id=\"nonprimary\">experiment_description</p>\n",
       "                                <span class=\"djtooltiptext\"></span>\n",
       "                            </div></th><th><div class=\"djtooltip\">\n",
       "                                <p id=\"nonprimary\">experimenter</p>\n",
       "                                <span class=\"djtooltiptext\"></span>\n",
       "                            </div></th><th><div class=\"djtooltip\">\n",
       "                                <p id=\"nonprimary\">identifier</p>\n",
       "                                <span class=\"djtooltiptext\"></span>\n",
       "                            </div></th><th><div class=\"djtooltip\">\n",
       "                                <p id=\"nonprimary\">institution</p>\n",
       "                                <span class=\"djtooltiptext\"></span>\n",
       "                            </div></th><th><div class=\"djtooltip\">\n",
       "                                <p id=\"nonprimary\">lab</p>\n",
       "                                <span class=\"djtooltiptext\"></span>\n",
       "                            </div></th><th><div class=\"djtooltip\">\n",
       "                                <p id=\"nonprimary\">rate</p>\n",
       "                                <span class=\"djtooltiptext\"></span>\n",
       "                            </div></th><th><div class=\"djtooltip\">\n",
       "                                <p id=\"nonprimary\">raw_data_link</p>\n",
       "                                <span class=\"djtooltiptext\"></span>\n",
       "                            </div></th><th><div class=\"djtooltip\">\n",
       "                                <p id=\"nonprimary\">reference_frame</p>\n",
       "                                <span class=\"djtooltiptext\"></span>\n",
       "                            </div></th><th><div class=\"djtooltip\">\n",
       "                                <p id=\"nonprimary\">session_description</p>\n",
       "                                <span class=\"djtooltiptext\"></span>\n",
       "                            </div></th><th><div class=\"djtooltip\">\n",
       "                                <p id=\"nonprimary\">session_start_time</p>\n",
       "                                <span class=\"djtooltiptext\"></span>\n",
       "                            </div></th><th><div class=\"djtooltip\">\n",
       "                                <p id=\"nonprimary\">starting_time</p>\n",
       "                                <span class=\"djtooltiptext\"></span>\n",
       "                            </div> </th> </tr> </thead>\n",
       "                <tbody> <tr> <td>Mouse_5025</td>\n",
       "<td>Session_22</td>\n",
       "<td>Will need to correct camera jitter</td>\n",
       "<td>The position of a mouse in an arena is transformed into X,Y coordinates</td>\n",
       "<td>Demonstrate creating a single NWB file and loading a DataJoint pipeline from an experimental session</td>\n",
       "<td>Experimenter 1</td>\n",
       "<td>Mouse_5025_Session_22</td>\n",
       "<td>Yale University</td>\n",
       "<td>Tan lab</td>\n",
       "<td>30.0</td>\n",
       "<td>C:/Users/meowm/OneDrive/DataWarehouse/Experimenter1/Mouse_5025/Session_22/raw_video.avi</td>\n",
       "<td>Zero refers to the bottom left corner of the rig, when viewed from above</td>\n",
       "<td>Determine if mouse has a place preference</td>\n",
       "<td>2020-07-07 15:36:13</td>\n",
       "<td>0.0</td> </tr> </tbody>\n",
       "            </table>\n",
       "            \n",
       "            <p>Total: 1</p></div>\n",
       "            "
      ],
      "text/plain": [
       "*subject_id    *name          comments       description    experiment_des experimenter   identifier     institution    lab         rate     raw_data_link  reference_fram session_descri session_start_ starting_time \n",
       "+------------+ +------------+ +------------+ +------------+ +------------+ +------------+ +------------+ +------------+ +---------+ +------+ +------------+ +------------+ +------------+ +------------+ +------------+\n",
       "Mouse_5025     Session_22     Will need to c The position o Demonstrate cr Experimenter 1 Mouse_5025_Ses Yale Universit Tan lab     30.0     C:/Users/meowm Zero refers to Determine if m 2020-07-07 15: 0.0           \n",
       " (Total: 1)"
      ]
     },
     "execution_count": 24,
     "metadata": {},
     "output_type": "execute_result"
    }
   ],
   "source": [
    "session"
   ]
  },
  {
   "cell_type": "markdown",
   "metadata": {},
   "source": [
    "Because Position is an imported table, we use the populate method instead of an insert method:"
   ]
  },
  {
   "cell_type": "code",
   "execution_count": 25,
   "metadata": {},
   "outputs": [
    {
     "name": "stdout",
     "output_type": "stream",
     "text": [
      "Populated a position for Mouse_5025\n"
     ]
    }
   ],
   "source": [
    "position.populate()"
   ]
  },
  {
   "cell_type": "markdown",
   "metadata": {},
   "source": [
    "PositionStatistics is a computed table, which also uses a populate method:"
   ]
  },
  {
   "cell_type": "code",
   "execution_count": 26,
   "metadata": {},
   "outputs": [
    {
     "name": "stdout",
     "output_type": "stream",
     "text": [
      "Populating for:  {'subject_id': 'Mouse_5025', 'name': 'Session_22'}\n"
     ]
    }
   ],
   "source": [
    "positionStatistics.populate()   "
   ]
  },
  {
   "cell_type": "markdown",
   "metadata": {},
   "source": [
    "We use * to join our tables and now have one row representing one complete entry in our data set.  "
   ]
  },
  {
   "cell_type": "code",
   "execution_count": 27,
   "metadata": {},
   "outputs": [
    {
     "data": {
      "text/html": [
       "\n",
       "        \n",
       "        <style type=\"text/css\">\n",
       "            .Relation{\n",
       "                border-collapse:collapse;\n",
       "            }\n",
       "            .Relation th{\n",
       "                background: #A0A0A0; color: #ffffff; padding:4px; border:#f0e0e0 1px solid;\n",
       "                font-weight: normal; font-family: monospace; font-size: 100%;\n",
       "            }\n",
       "            .Relation td{\n",
       "                padding:4px; border:#f0e0e0 1px solid; font-size:100%;\n",
       "            }\n",
       "            .Relation tr:nth-child(odd){\n",
       "                background: #ffffff;\n",
       "            }\n",
       "            .Relation tr:nth-child(even){\n",
       "                background: #f3f1ff;\n",
       "            }\n",
       "            /* Tooltip container */\n",
       "            .djtooltip {\n",
       "            }\n",
       "            /* Tooltip text */\n",
       "            .djtooltip .djtooltiptext {\n",
       "                visibility: hidden;\n",
       "                width: 120px;\n",
       "                background-color: black;\n",
       "                color: #fff;\n",
       "                text-align: center;\n",
       "                padding: 5px 0;\n",
       "                border-radius: 6px;\n",
       "                /* Position the tooltip text - see examples below! */\n",
       "                position: absolute;\n",
       "                z-index: 1;\n",
       "            }\n",
       "            #primary {\n",
       "                font-weight: bold;\n",
       "                color: black;\n",
       "            }\n",
       "\n",
       "            #nonprimary {\n",
       "                font-weight: normal;\n",
       "                color: white;\n",
       "            }\n",
       "\n",
       "            /* Show the tooltip text when you mouse over the tooltip container */\n",
       "            .djtooltip:hover .djtooltiptext {\n",
       "                visibility: visible;\n",
       "            }\n",
       "        </style>\n",
       "        \n",
       "        \n",
       "            <div style=\"max-height:1000px;max-width:1500px;overflow:auto;\">\n",
       "            <table border=\"1\" class=\"Relation\">\n",
       "                <thead> <tr style=\"text-align: right;\"> <th> <div class=\"djtooltip\">\n",
       "                                <p id=\"primary\">subject_id</p>\n",
       "                                <span class=\"djtooltiptext\">Primary keys above the '---'</span>\n",
       "                            </div></th><th><div class=\"djtooltip\">\n",
       "                                <p id=\"primary\">name</p>\n",
       "                                <span class=\"djtooltiptext\">Primary key for the session table</span>\n",
       "                            </div></th><th><div class=\"djtooltip\">\n",
       "                                <p id=\"nonprimary\">date_of_birth</p>\n",
       "                                <span class=\"djtooltiptext\"></span>\n",
       "                            </div></th><th><div class=\"djtooltip\">\n",
       "                                <p id=\"nonprimary\">genotype</p>\n",
       "                                <span class=\"djtooltiptext\"></span>\n",
       "                            </div></th><th><div class=\"djtooltip\">\n",
       "                                <p id=\"nonprimary\">sex</p>\n",
       "                                <span class=\"djtooltiptext\"></span>\n",
       "                            </div></th><th><div class=\"djtooltip\">\n",
       "                                <p id=\"nonprimary\">species</p>\n",
       "                                <span class=\"djtooltiptext\"></span>\n",
       "                            </div></th><th><div class=\"djtooltip\">\n",
       "                                <p id=\"nonprimary\">subject_description</p>\n",
       "                                <span class=\"djtooltiptext\"></span>\n",
       "                            </div></th><th><div class=\"djtooltip\">\n",
       "                                <p id=\"nonprimary\">weight</p>\n",
       "                                <span class=\"djtooltiptext\"></span>\n",
       "                            </div></th><th><div class=\"djtooltip\">\n",
       "                                <p id=\"nonprimary\">comments</p>\n",
       "                                <span class=\"djtooltiptext\"></span>\n",
       "                            </div></th><th><div class=\"djtooltip\">\n",
       "                                <p id=\"nonprimary\">description</p>\n",
       "                                <span class=\"djtooltiptext\">Timeseries description</span>\n",
       "                            </div></th><th><div class=\"djtooltip\">\n",
       "                                <p id=\"nonprimary\">experiment_description</p>\n",
       "                                <span class=\"djtooltiptext\"></span>\n",
       "                            </div></th><th><div class=\"djtooltip\">\n",
       "                                <p id=\"nonprimary\">experimenter</p>\n",
       "                                <span class=\"djtooltiptext\"></span>\n",
       "                            </div></th><th><div class=\"djtooltip\">\n",
       "                                <p id=\"nonprimary\">identifier</p>\n",
       "                                <span class=\"djtooltiptext\"></span>\n",
       "                            </div></th><th><div class=\"djtooltip\">\n",
       "                                <p id=\"nonprimary\">institution</p>\n",
       "                                <span class=\"djtooltiptext\"></span>\n",
       "                            </div></th><th><div class=\"djtooltip\">\n",
       "                                <p id=\"nonprimary\">lab</p>\n",
       "                                <span class=\"djtooltiptext\"></span>\n",
       "                            </div></th><th><div class=\"djtooltip\">\n",
       "                                <p id=\"nonprimary\">rate</p>\n",
       "                                <span class=\"djtooltiptext\"></span>\n",
       "                            </div></th><th><div class=\"djtooltip\">\n",
       "                                <p id=\"nonprimary\">raw_data_link</p>\n",
       "                                <span class=\"djtooltiptext\"></span>\n",
       "                            </div></th><th><div class=\"djtooltip\">\n",
       "                                <p id=\"nonprimary\">reference_frame</p>\n",
       "                                <span class=\"djtooltiptext\"></span>\n",
       "                            </div></th><th><div class=\"djtooltip\">\n",
       "                                <p id=\"nonprimary\">session_description</p>\n",
       "                                <span class=\"djtooltiptext\"></span>\n",
       "                            </div></th><th><div class=\"djtooltip\">\n",
       "                                <p id=\"nonprimary\">session_start_time</p>\n",
       "                                <span class=\"djtooltiptext\"></span>\n",
       "                            </div></th><th><div class=\"djtooltip\">\n",
       "                                <p id=\"nonprimary\">starting_time</p>\n",
       "                                <span class=\"djtooltiptext\"></span>\n",
       "                            </div></th><th><div class=\"djtooltip\">\n",
       "                                <p id=\"nonprimary\">coordinates</p>\n",
       "                                <span class=\"djtooltiptext\">X,Y coordinates of mouse</span>\n",
       "                            </div></th><th><div class=\"djtooltip\">\n",
       "                                <p id=\"nonprimary\">left_side</p>\n",
       "                                <span class=\"djtooltiptext\">count of coordinates in left half of arena</span>\n",
       "                            </div></th><th><div class=\"djtooltip\">\n",
       "                                <p id=\"nonprimary\">right_side</p>\n",
       "                                <span class=\"djtooltiptext\">count of coordinates in the right half of arena</span>\n",
       "                            </div></th><th><div class=\"djtooltip\">\n",
       "                                <p id=\"nonprimary\">preference_index</p>\n",
       "                                <span class=\"djtooltiptext\">left_side - right_side/ left_side + right_side</span>\n",
       "                            </div> </th> </tr> </thead>\n",
       "                <tbody> <tr> <td>Mouse_5025</td>\n",
       "<td>Session_22</td>\n",
       "<td>2017-04-03 11:00:00</td>\n",
       "<td>B6</td>\n",
       "<td>F</td>\n",
       "<td>Mus musculus</td>\n",
       "<td>Fuzzy</td>\n",
       "<td>25g</td>\n",
       "<td>Will need to correct camera jitter</td>\n",
       "<td>The position of a mouse in an arena is transformed into X,Y coordinates</td>\n",
       "<td>Demonstrate creating a single NWB file and loading a DataJoint pipeline from an experimental session</td>\n",
       "<td>Experimenter 1</td>\n",
       "<td>Mouse_5025_Session_22</td>\n",
       "<td>Yale University</td>\n",
       "<td>Tan lab</td>\n",
       "<td>30.0</td>\n",
       "<td>C:/Users/meowm/OneDrive/DataWarehouse/Experimenter1/Mouse_5025/Session_22/raw_video.avi</td>\n",
       "<td>Zero refers to the bottom left corner of the rig, when viewed from above</td>\n",
       "<td>Determine if mouse has a place preference</td>\n",
       "<td>2020-07-07 15:36:13</td>\n",
       "<td>0.0</td>\n",
       "<td>=BLOB=</td>\n",
       "<td>9856.0</td>\n",
       "<td>7912.0</td>\n",
       "<td>0.10941</td> </tr> </tbody>\n",
       "            </table>\n",
       "            \n",
       "            <p>Total: 1</p></div>\n",
       "            "
      ],
      "text/plain": [
       "*subject_id    *name          date_of_birth  genotype     sex     species        subject_descri weight     comments       description    experiment_des experimenter   identifier     institution    lab         rate     raw_data_link  reference_fram session_descri session_start_ starting_time  coordinate left_side     right_side     preference_ind\n",
       "+------------+ +------------+ +------------+ +----------+ +-----+ +------------+ +------------+ +--------+ +------------+ +------------+ +------------+ +------------+ +------------+ +------------+ +---------+ +------+ +------------+ +------------+ +------------+ +------------+ +------------+ +--------+ +-----------+ +------------+ +------------+\n",
       "Mouse_5025     Session_22     2017-04-03 11: B6           F       Mus musculus   Fuzzy          25g        Will need to c The position o Demonstrate cr Experimenter 1 Mouse_5025_Ses Yale Universit Tan lab     30.0     C:/Users/meowm Zero refers to Determine if m 2020-07-07 15: 0.0            =BLOB=     9856.0        7912.0         0.10941       \n",
       " (Total: 1)"
      ]
     },
     "execution_count": 27,
     "metadata": {},
     "output_type": "execute_result"
    }
   ],
   "source": [
    "mouse * session * position * positionStatistics "
   ]
  },
  {
   "cell_type": "markdown",
   "metadata": {},
   "source": [
    "## Section 5: Create NWB file"
   ]
  },
  {
   "cell_type": "markdown",
   "metadata": {},
   "source": [
    "Methods from the pynwb library streamline writing data to NWB files.  PyNWB's subject class is a container that is used to write our metadata to the appropriate location in the NWB file."
   ]
  },
  {
   "cell_type": "code",
   "execution_count": 28,
   "metadata": {},
   "outputs": [],
   "source": [
    "#Load subject data\n",
    "subject = pynwb.file.Subject(\n",
    "    description = subject_description,\n",
    "    genotype = genotype,\n",
    "    sex = sex,\n",
    "    species = species,\n",
    "    subject_id = subject_id,\n",
    "    weight = weight,\n",
    "    date_of_birth = date_of_birth\n",
    "    )"
   ]
  },
  {
   "cell_type": "markdown",
   "metadata": {},
   "source": [
    "The NWBFile container is used to pass high level data and the subject data to an NWB file.  \n",
    "\n",
    "Working with timezones in datetime data can be difficult, but necessary for team members working in mulitple locations. The pynwb API checks datetime fields, such as session_start_time to see if the timezone is present, and generates it if it is missing."
   ]
  },
  {
   "cell_type": "code",
   "execution_count": 29,
   "metadata": {},
   "outputs": [
    {
     "name": "stderr",
     "output_type": "stream",
     "text": [
      "C:\\Users\\meowm\\AppData\\Local\\Continuum\\anaconda3\\lib\\site-packages\\pynwb\\file.py:749: UserWarning: Date is missing timezone information. Updating to local timezone.\n",
      "  warn(\"Date is missing timezone information. Updating to local timezone.\")\n"
     ]
    }
   ],
   "source": [
    "#Create NWB file structure and high level data\n",
    "nwbfile = pynwb.file.NWBFile(\n",
    "    session_description, #Session description\n",
    "    identifier, #file identifier\n",
    "    session_start_time, \n",
    "    experimenter = experimenter,\n",
    "    lab = lab,\n",
    "    institution = institution,\n",
    "    experiment_description = experiment_description,\n",
    "    subject = subject\n",
    "    )"
   ]
  },
  {
   "cell_type": "markdown",
   "metadata": {},
   "source": [
    "Next we create an image series containing a mock link to raw data, which is added to the Acquisition group."
   ]
  },
  {
   "cell_type": "code",
   "execution_count": 30,
   "metadata": {},
   "outputs": [],
   "source": [
    "#Add link to raw data in the acquisition group\n",
    "\n",
    "raw_data = pynwb.image.ImageSeries(\n",
    "    'Raw Data',\n",
    "    format = 'external',\n",
    "    rate = rate, #Unit is Hz\n",
    "    external_file = [raw_data_link],\n",
    "    starting_frame = [0]\n",
    "    )\n",
    "\n",
    "nwbfile.add_acquisition(raw_data)"
   ]
  },
  {
   "cell_type": "markdown",
   "metadata": {},
   "source": [
    "We retrieve our coordinate data from DataJoint and pass it to a SpatialTimeseries. Next we create a Processing module called 'behavior' in the NWB file, and then add the SpatialTimeseries to it."
   ]
  },
  {
   "cell_type": "code",
   "execution_count": 31,
   "metadata": {},
   "outputs": [
    {
     "data": {
      "text/plain": [
       "Session_22 pynwb.behavior.SpatialSeries at 0x1654178944648\n",
       "Fields:\n",
       "  comments: Will need to correct camera jitter\n",
       "  conversion: 1.0\n",
       "  data: [[ 90.  72.]\n",
       " [ 91.  67.]\n",
       " [ 89.  70.]\n",
       " ...\n",
       " [316. 192.]\n",
       " [314. 194.]\n",
       " [312. 195.]]\n",
       "  description: The position of a mouse in an arena is transformed into X,Y coordinates\n",
       "  rate: 30.0\n",
       "  reference_frame: Zero refers to the bottom left corner of the rig, when viewed from above\n",
       "  resolution: -1.0\n",
       "  starting_time: 0.0\n",
       "  starting_time_unit: seconds\n",
       "  unit: meters"
      ]
     },
     "execution_count": 31,
     "metadata": {},
     "output_type": "execute_result"
    }
   ],
   "source": [
    "#This code retrieves data, passes it to the SpatialSeries NWB container, and stores it in the Processing group in the NWB file\n",
    "\n",
    "#We retrieve the coordinate data from DataJoint\n",
    "data = position.fetch1('coordinates')\n",
    "data = data[:]\n",
    "\n",
    "#Create an NWB timeseries and pass data to it\n",
    "spatial_timeseries = pynwb.behavior.SpatialSeries(\n",
    "    name, \n",
    "    data, \n",
    "    reference_frame = reference_frame,\n",
    "    starting_time = starting_time,\n",
    "    rate = rate, #Unit is Hz\n",
    "    comments = comments, \n",
    "    description = description\n",
    "    )\n",
    "\n",
    "#Create a module in the Processing group called 'behavior' \n",
    "behavior_module = nwbfile.create_processing_module('behavior', 'Spatial series containing coordinates representating the location of a mouse')\n",
    "\n",
    "#Add the spatial timeseries to the behavior module\n",
    "nwbfile.processing['behavior'].add(spatial_timeseries)"
   ]
  },
  {
   "cell_type": "code",
   "execution_count": 32,
   "metadata": {},
   "outputs": [],
   "source": [
    "#Write the NWB file we use the NWBHDF5IO class, which maps data to the hdf5 file. 'W' or write mode\n",
    "#We use the with command, which closes the file at the end of the cell.\n",
    "with NWBHDF5IO(nwbfile_name, 'w') as io:\n",
    "     io.write(nwbfile)"
   ]
  },
  {
   "cell_type": "markdown",
   "metadata": {},
   "source": [
    "Finally we retrieve the preference index from the position statistics table and save it in the analysis group. Due to the diversity of analysis, NWB did not provide methods for populating that group, so native Hdf5 methods may be used. We illustrate this by using the h5py.File with append option, indicated by 'a'. The h5py function is very similiar to the NWBHDF5IO used above, although it does not provide the same degree of validation."
   ]
  },
  {
   "cell_type": "code",
   "execution_count": 33,
   "metadata": {},
   "outputs": [],
   "source": [
    "#Retrieve prerence index from the PositionStatistics table\n",
    "preference_index = positionStatistics.fetch1('preference_index')\n",
    "\n",
    "#Open our file and append the preference_index to a dataset in the analysis group\n",
    "with h5py.File(nwbfile_name, 'a') as f:\n",
    "    #Specify the analysis group in our file\n",
    "    d = f['analysis']\n",
    "    #Use hdf5 method to create and populate a dataset\n",
    "    d.create_dataset(\"preference_index\", data = preference_index)"
   ]
  },
  {
   "cell_type": "markdown",
   "metadata": {},
   "source": [
    "In Jupyter, the '!' symbol lets us access some commands from the command line interface.  This lets us validate our files to ensure that they have been created correctly. Note that because it mimics a command line interface, this function can't access the name stored in the nwbfile_name variable."
   ]
  },
  {
   "cell_type": "code",
   "execution_count": 34,
   "metadata": {},
   "outputs": [
    {
     "name": "stdout",
     "output_type": "stream",
     "text": [
      "Validating Mouse_5025_Session_22.nwb against cached namespace information using namespace core.\n",
      " - no errors found.\n"
     ]
    }
   ],
   "source": [
    "! python -m pynwb.validate Mouse_5025_Session_22.nwb"
   ]
  },
  {
   "cell_type": "markdown",
   "metadata": {},
   "source": [
    "## Quick Start: If you are using Jupyter as a virtual lab notebook and have several sessions in the pipeline, you may append the queries used in Chapter 3 here."
   ]
  },
  {
   "cell_type": "markdown",
   "metadata": {},
   "source": [
    "## Before proceeding to the next chapter update DataJoint credentials in ImportsAndTableDefinitions.py.\n",
    "\n",
    "It is a best practice to keep classes and functions that you use repeatedly in a single file, so updating code can be done in a single place.  "
   ]
  }
 ],
 "metadata": {
  "kernelspec": {
   "display_name": "Python 3",
   "language": "python",
   "name": "python3"
  },
  "language_info": {
   "codemirror_mode": {
    "name": "ipython",
    "version": 3
   },
   "file_extension": ".py",
   "mimetype": "text/x-python",
   "name": "python",
   "nbconvert_exporter": "python",
   "pygments_lexer": "ipython3",
   "version": "3.7.5"
  }
 },
 "nbformat": 4,
 "nbformat_minor": 2
}
